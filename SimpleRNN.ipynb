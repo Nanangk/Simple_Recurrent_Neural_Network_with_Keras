{
  "nbformat": 4,
  "nbformat_minor": 0,
  "metadata": {
    "colab": {
      "name": "SimpleRNN.ipynb",
      "provenance": [],
      "authorship_tag": "ABX9TyPKBikN4GFRL7JONFY9451L",
      "include_colab_link": true
    },
    "kernelspec": {
      "name": "python3",
      "display_name": "Python 3"
    }
  },
  "cells": [
    {
      "cell_type": "markdown",
      "metadata": {
        "id": "view-in-github",
        "colab_type": "text"
      },
      "source": [
        "<a href=\"https://colab.research.google.com/github/Nanangk/Simple_Recurrent_Neural_Network_with_Keras/blob/master/SimpleRNN.ipynb\" target=\"_parent\"><img src=\"https://colab.research.google.com/assets/colab-badge.svg\" alt=\"Open In Colab\"/></a>"
      ]
    },
    {
      "cell_type": "code",
      "metadata": {
        "id": "q4B-5KTT6xu6",
        "colab_type": "code",
        "colab": {}
      },
      "source": [
        "#Import Library\n",
        "\n",
        "import numpy as np\n",
        "\n",
        "from tensorflow.keras.models import Sequential\n",
        "from tensorflow.keras.layers import TimeDistributed, Dense, Dropout, SimpleRNN, RepeatVector\n",
        "from tensorflow.keras.callbacks import EarlyStopping, LambdaCallback\n",
        "\n",
        "from termcolor import colored"
      ],
      "execution_count": 0,
      "outputs": []
    },
    {
      "cell_type": "code",
      "metadata": {
        "id": "KT8CXunZ7YRf",
        "colab_type": "code",
        "colab": {}
      },
      "source": [
        "all_chars = '0123456789+'"
      ],
      "execution_count": 0,
      "outputs": []
    },
    {
      "cell_type": "code",
      "metadata": {
        "id": "nX9ia8pu-tgN",
        "colab_type": "code",
        "colab": {}
      },
      "source": [
        "num_features = len(all_chars)\n",
        "char_to_index = dict((c, i) for i, c in enumerate(all_chars))\n",
        "index_to_char = dict((i, c) for i, c in enumerate(all_chars))"
      ],
      "execution_count": 0,
      "outputs": []
    },
    {
      "cell_type": "code",
      "metadata": {
        "id": "TPINdXFX_R3A",
        "colab_type": "code",
        "outputId": "edef4f95-8447-4013-a7f2-58bec4ab4901",
        "colab": {
          "base_uri": "https://localhost:8080/",
          "height": 33
        }
      },
      "source": [
        "def generate_data():\n",
        "  first = np.random.randint(0,100)\n",
        "  second = np.random.randint(0, 100)\n",
        "  example = str(first) + '+' + str(second)\n",
        "  label = str(first+second)\n",
        "  return example, label\n",
        "\n",
        "generate_data()"
      ],
      "execution_count": 51,
      "outputs": [
        {
          "output_type": "execute_result",
          "data": {
            "text/plain": [
              "('60+87', '147')"
            ]
          },
          "metadata": {
            "tags": []
          },
          "execution_count": 51
        }
      ]
    },
    {
      "cell_type": "code",
      "metadata": {
        "id": "SrI9qM77_zap",
        "colab_type": "code",
        "colab": {
          "base_uri": "https://localhost:8080/",
          "height": 284
        },
        "outputId": "6a8eef61-4b19-4a70-c41c-4969abf693dc"
      },
      "source": [
        "#Create Model\n",
        "\n",
        "hidden_unit = 128\n",
        "max_time_steps = 5\n",
        "\n",
        "model =  Sequential([\n",
        "        SimpleRNN(hidden_unit, input_shape=(None, num_features)),\n",
        "        RepeatVector(max_time_steps),\n",
        "        SimpleRNN(hidden_unit, return_sequences=True),\n",
        "        TimeDistributed(Dense(num_features, activation='softmax'))\n",
        "])\n",
        "\n",
        "model.compile(\n",
        "    loss='categorical_crossentropy',\n",
        "    optimizer = 'adam',\n",
        "    metrics=['accuracy']\n",
        ")\n",
        "\n",
        "model.summary()"
      ],
      "execution_count": 52,
      "outputs": [
        {
          "output_type": "stream",
          "text": [
            "Model: \"sequential_3\"\n",
            "_________________________________________________________________\n",
            "Layer (type)                 Output Shape              Param #   \n",
            "=================================================================\n",
            "simple_rnn_6 (SimpleRNN)     (None, 128)               17920     \n",
            "_________________________________________________________________\n",
            "repeat_vector_3 (RepeatVecto (None, 5, 128)            0         \n",
            "_________________________________________________________________\n",
            "simple_rnn_7 (SimpleRNN)     (None, 5, 128)            32896     \n",
            "_________________________________________________________________\n",
            "time_distributed_3 (TimeDist (None, 5, 11)             1419      \n",
            "=================================================================\n",
            "Total params: 52,235\n",
            "Trainable params: 52,235\n",
            "Non-trainable params: 0\n",
            "_________________________________________________________________\n"
          ],
          "name": "stdout"
        }
      ]
    },
    {
      "cell_type": "code",
      "metadata": {
        "id": "wfJaQb3Hzgg1",
        "colab_type": "code",
        "colab": {
          "base_uri": "https://localhost:8080/",
          "height": 50
        },
        "outputId": "4499ea7d-61be-4e6c-b605-47ad20418708"
      },
      "source": [
        "#Vectorize and De-Vectorize Data\n",
        "\n",
        "def vectorize_example(example, label):\n",
        "  x = np.zeros((max_time_steps, num_features))\n",
        "  y = np.zeros((max_time_steps, num_features))\n",
        "\n",
        "  diff_x = max_time_steps - len(example)\n",
        "  diff_y = max_time_steps - len(label)\n",
        "\n",
        "  for i,c in enumerate(example):\n",
        "    x[i+diff_x, char_to_index[c]] = 1\n",
        "\n",
        "  for i in range(diff_x):\n",
        "    x[i, char_to_index['0']] = 1\n",
        "\n",
        "  for i,c in enumerate(label):\n",
        "    y[i+diff_y, char_to_index[c]] = 1\n",
        "\n",
        "  for i in range(diff_y):\n",
        "    y[i, char_to_index['0']] = 1\n",
        "\n",
        "  return x, y\n",
        "\n",
        "\n",
        "e, l = generate_data()\n",
        "print(e, l)\n",
        "x, y = vectorize_example(e,l)\n",
        "print(x.shape, y.shape)"
      ],
      "execution_count": 53,
      "outputs": [
        {
          "output_type": "stream",
          "text": [
            "26+73 99\n",
            "(5, 11) (5, 11)\n"
          ],
          "name": "stdout"
        }
      ]
    },
    {
      "cell_type": "code",
      "metadata": {
        "id": "c2NYtbpd4cP_",
        "colab_type": "code",
        "colab": {
          "base_uri": "https://localhost:8080/",
          "height": 33
        },
        "outputId": "3a0bbb65-3dbf-444e-c589-1fcd5bf453ef"
      },
      "source": [
        "def devectorize_example(example):\n",
        "  result = [index_to_char[np.argmax(vec)] for i, vec in enumerate(example)]\n",
        "  return ''.join(result)\n",
        "\n",
        "\n",
        "devectorize_example(x)"
      ],
      "execution_count": 54,
      "outputs": [
        {
          "output_type": "execute_result",
          "data": {
            "text/plain": [
              "'26+73'"
            ]
          },
          "metadata": {
            "tags": []
          },
          "execution_count": 54
        }
      ]
    },
    {
      "cell_type": "code",
      "metadata": {
        "id": "X07_kZVK55lH",
        "colab_type": "code",
        "colab": {
          "base_uri": "https://localhost:8080/",
          "height": 33
        },
        "outputId": "bf5f4210-7f18-45fa-8e5f-14d5b486a21c"
      },
      "source": [
        "devectorize_example(y)"
      ],
      "execution_count": 55,
      "outputs": [
        {
          "output_type": "execute_result",
          "data": {
            "text/plain": [
              "'00099'"
            ]
          },
          "metadata": {
            "tags": []
          },
          "execution_count": 55
        }
      ]
    },
    {
      "cell_type": "code",
      "metadata": {
        "id": "B2yCTnT06HvI",
        "colab_type": "code",
        "colab": {
          "base_uri": "https://localhost:8080/",
          "height": 33
        },
        "outputId": "6e9b77e4-ece4-43a7-8c94-a21c2bbae8bd"
      },
      "source": [
        "#Creating Dataset\n",
        "\n",
        "def create_dataset(num_examples=2000):\n",
        "  x = np.zeros((num_examples, max_time_steps, num_features))\n",
        "  y = np.zeros((num_examples, max_time_steps, num_features))\n",
        "  for i in range(num_examples):\n",
        "    e, l = generate_data()\n",
        "    e_v, l_v = vectorize_example(e, l)\n",
        "    x[i] = e_v\n",
        "    y[i] = l_v\n",
        "\n",
        "  return x,y\n",
        "x,y = create_dataset()\n",
        "print(x.shape, y.shape)"
      ],
      "execution_count": 56,
      "outputs": [
        {
          "output_type": "stream",
          "text": [
            "(2000, 5, 11) (2000, 5, 11)\n"
          ],
          "name": "stdout"
        }
      ]
    },
    {
      "cell_type": "code",
      "metadata": {
        "id": "KVqbL5ln7_k_",
        "colab_type": "code",
        "colab": {
          "base_uri": "https://localhost:8080/",
          "height": 33
        },
        "outputId": "1aadded3-855b-4fc2-c2c1-f076a45936fc"
      },
      "source": [
        "devectorize_example(x[0])"
      ],
      "execution_count": 57,
      "outputs": [
        {
          "output_type": "execute_result",
          "data": {
            "text/plain": [
              "'52+34'"
            ]
          },
          "metadata": {
            "tags": []
          },
          "execution_count": 57
        }
      ]
    },
    {
      "cell_type": "code",
      "metadata": {
        "id": "P7b2SiMK8dJ4",
        "colab_type": "code",
        "colab": {
          "base_uri": "https://localhost:8080/",
          "height": 33
        },
        "outputId": "2708a435-1ca6-447e-bcf2-3d14fa6813ab"
      },
      "source": [
        "devectorize_example(y[0])"
      ],
      "execution_count": 58,
      "outputs": [
        {
          "output_type": "execute_result",
          "data": {
            "text/plain": [
              "'00086'"
            ]
          },
          "metadata": {
            "tags": []
          },
          "execution_count": 58
        }
      ]
    },
    {
      "cell_type": "code",
      "metadata": {
        "id": "JfORfRAO8gDn",
        "colab_type": "code",
        "colab": {}
      },
      "source": [
        "#Training the Model\n",
        "\n",
        "model.fit(x,y, epochs=50, batch_size=100, validation_split=0.2,\n",
        "          verbose=1,\n",
        "          )"
      ],
      "execution_count": 0,
      "outputs": []
    },
    {
      "cell_type": "code",
      "metadata": {
        "id": "Kmv2VMr2_DMZ",
        "colab_type": "code",
        "colab": {
          "base_uri": "https://localhost:8080/",
          "height": 351
        },
        "outputId": "d56747ff-2ee9-4436-d5a5-c411fefc004d"
      },
      "source": [
        "#Predict\n",
        "\n",
        "x_test, y_test = create_dataset(20)\n",
        "preds = model.predict(x_test)\n",
        "\n",
        "for i,pred in enumerate(preds):\n",
        "  y = devectorize_example(y_test[i])\n",
        "  y_hat = devectorize_example(pred)\n",
        "  col = 'green'\n",
        "  if y != y_hat:\n",
        "    col = 'red'\n",
        "  \n",
        "  out = 'Input : '+devectorize_example(x_test[i])+ ' Out : '+y+' Pred : '+y_hat\n",
        "  print(colored(out, col))"
      ],
      "execution_count": 62,
      "outputs": [
        {
          "output_type": "stream",
          "text": [
            "\u001b[31mInput : 53+26 Out : 00079 Pred : 00089\u001b[0m\n",
            "\u001b[32mInput : 061+2 Out : 00063 Pred : 00063\u001b[0m\n",
            "\u001b[32mInput : 52+60 Out : 00112 Pred : 00112\u001b[0m\n",
            "\u001b[32mInput : 36+72 Out : 00108 Pred : 00108\u001b[0m\n",
            "\u001b[32mInput : 69+39 Out : 00108 Pred : 00108\u001b[0m\n",
            "\u001b[32mInput : 76+76 Out : 00152 Pred : 00152\u001b[0m\n",
            "\u001b[32mInput : 96+92 Out : 00188 Pred : 00188\u001b[0m\n",
            "\u001b[32mInput : 82+12 Out : 00094 Pred : 00094\u001b[0m\n",
            "\u001b[32mInput : 46+80 Out : 00126 Pred : 00126\u001b[0m\n",
            "\u001b[32mInput : 87+25 Out : 00112 Pred : 00112\u001b[0m\n",
            "\u001b[32mInput : 84+69 Out : 00153 Pred : 00153\u001b[0m\n",
            "\u001b[32mInput : 48+85 Out : 00133 Pred : 00133\u001b[0m\n",
            "\u001b[32mInput : 22+30 Out : 00052 Pred : 00052\u001b[0m\n",
            "\u001b[32mInput : 050+9 Out : 00059 Pred : 00059\u001b[0m\n",
            "\u001b[31mInput : 049+2 Out : 00051 Pred : 00050\u001b[0m\n",
            "\u001b[31mInput : 96+93 Out : 00189 Pred : 00180\u001b[0m\n",
            "\u001b[32mInput : 57+29 Out : 00086 Pred : 00086\u001b[0m\n",
            "\u001b[32mInput : 58+40 Out : 00098 Pred : 00098\u001b[0m\n",
            "\u001b[31mInput : 023+2 Out : 00025 Pred : 00023\u001b[0m\n",
            "\u001b[31mInput : 78+96 Out : 00174 Pred : 00183\u001b[0m\n"
          ],
          "name": "stdout"
        }
      ]
    },
    {
      "cell_type": "code",
      "metadata": {
        "id": "WzX8tgjFEVp3",
        "colab_type": "code",
        "colab": {}
      },
      "source": [
        ""
      ],
      "execution_count": 0,
      "outputs": []
    }
  ]
}